{
 "cells": [
  {
   "cell_type": "code",
   "execution_count": 1,
   "metadata": {},
   "outputs": [],
   "source": [
    "import pandas as pd\n",
    "import matplotlib.pyplot as plt\n",
    "import seaborn as sn\n",
    "import numpy as np"
   ]
  },
  {
   "cell_type": "code",
   "execution_count": 16,
   "metadata": {},
   "outputs": [],
   "source": [
    "avocado_info = pd.read_csv('avocado.csv')"
   ]
  },
  {
   "cell_type": "code",
   "execution_count": 58,
   "metadata": {},
   "outputs": [],
   "source": [
    "organic = avocado_info.loc[avocado_info['type'] == 'organic', 'AveragePrice']"
   ]
  },
  {
   "cell_type": "code",
   "execution_count": 59,
   "metadata": {},
   "outputs": [],
   "source": [
    "not_organic = avocado_info.loc[avocado_info['type'] == 'conventional', 'AveragePrice']"
   ]
  },
  {
   "cell_type": "code",
   "execution_count": 23,
   "metadata": {},
   "outputs": [
    {
     "data": {
      "image/png": "[encoded data removed]",
      "text/plain": [
       "<Figure size 432x288 with 1 Axes>"
      ]
     },
     "metadata": {
      "needs_background": "light"
     },
     "output_type": "display_data"
    }
   ],
   "source": [
    "sn.distplot(organic['AveragePrice'], kde = False, label = 'Organic')\n",
    "sn.distplot(not_organic['AveragePrice'], kde = False, label = 'Not Organic')\n",
    "plt.legend()\n",
    "plt.show()"
   ]
  },
  {
   "cell_type": "code",
   "execution_count": 24,
   "metadata": {},
   "outputs": [],
   "source": [
    "observed_test_stat = np.mean(organic['AveragePrice']) - np.mean(not_organic['AveragePrice'])"
   ]
  },
  {
   "cell_type": "code",
   "execution_count": 25,
   "metadata": {},
   "outputs": [
    {
     "data": {
      "text/plain": [
       "0.4959590177573876"
      ]
     },
     "execution_count": 25,
     "metadata": {},
     "output_type": "execute_result"
    }
   ],
   "source": [
    "observed_test_stat"
   ]
  },
  {
   "cell_type": "code",
   "execution_count": 28,
   "metadata": {},
   "outputs": [
    {
     "data": {
      "text/plain": [
       "0        1.79\n",
       "1        1.13\n",
       "2        1.77\n",
       "3        1.94\n",
       "4        2.11\n",
       "         ... \n",
       "18244    2.35\n",
       "18245    1.19\n",
       "18246    1.54\n",
       "18247    1.28\n",
       "18248    1.22\n",
       "Name: AveragePrice, Length: 18249, dtype: float64"
      ]
     },
     "execution_count": 28,
     "metadata": {},
     "output_type": "execute_result"
    }
   ],
   "source": [
    "avocado_info['AveragePrice'].sample(frac = 1).reset_index(drop = True)"
   ]
  },
  {
   "cell_type": "code",
   "execution_count": 29,
   "metadata": {},
   "outputs": [],
   "source": [
    "def perm(data):\n",
    "    return data.sample(frac = 1).reset_index(drop = True)"
   ]
  },
  {
   "cell_type": "code",
   "execution_count": 48,
   "metadata": {},
   "outputs": [],
   "source": [
    "sim_test_stat = np.array([])\n",
    "\n",
    "reps = 900\n",
    "\n",
    "for i in range (reps):\n",
    "    perm_info = perm(avocado_info['AveragePrice'])\n",
    "    \n",
    "    df = pd.DataFrame({'Permutation Price':perm_info, 'type':avocado_info['type']})\n",
    "    \n",
    "    Organic = df.loc[df['type'] == 'organic', 'Permutation Price']\n",
    "    Not_Organic = df.loc[df['type'] == 'conventional', 'Permutation Price']\n",
    "    \n",
    "    stat = np.mean(Not_Organic) - np.mean(Organic)\n",
    "    \n",
    "    sim_test_stat = np.append(sim_test_stat, stat)"
   ]
  },
  {
   "cell_type": "code",
   "execution_count": 49,
   "metadata": {
    "scrolled": true
   },
   "outputs": [
    {
     "data": {
      "text/plain": [
       "array([ 5.28270766e-03,  4.01359699e-03,  1.40304292e-03, -3.05528368e-03,\n",
       "        3.15860031e-04, -8.06158554e-03,  6.11124624e-03, -2.18509899e-03,\n",
       "        4.22401949e-03,  8.72602881e-04, -5.50582899e-03, -8.67750971e-03,\n",
       "       -2.76376085e-03,  1.15646959e-02,  5.77588538e-03, -5.21211425e-03,\n",
       "       -4.70140132e-03,  3.25300735e-03, -8.61394458e-03,  4.20210048e-03,\n",
       "        6.31493772e-04,  4.48485570e-03,  1.03699545e-03, -4.53920065e-03,\n",
       "       -7.88623346e-03,  1.18299159e-02, -1.27873241e-02,  6.01480259e-03,\n",
       "       -2.51842325e-04,  9.40128961e-03,  3.03820105e-03,  1.13016678e-02,\n",
       "        6.24933600e-03,  1.60688971e-03,  7.73967336e-04,  1.20780843e-04,\n",
       "        7.63461742e-03, -1.39862939e-02, -5.59788883e-03,  8.55067673e-04,\n",
       "       -2.27496693e-03, -3.35557412e-03, -4.20383980e-03,  3.58836820e-03,\n",
       "        2.18555157e-03,  6.07398392e-03, -1.11653173e-02, -1.24936093e-02,\n",
       "        5.35050129e-04,  9.45827904e-03,  1.08062981e-02,  3.02285775e-03,\n",
       "       -6.29710524e-03,  6.65702958e-03,  9.47581425e-03, -7.46100467e-03,\n",
       "        1.37893201e-03, -1.00364883e-02, -1.63053251e-02,  1.39427532e-03,\n",
       "       -7.77898561e-04,  1.03109285e-02, -1.17244074e-03, -7.20909136e-04,\n",
       "        8.48945880e-03, -4.14904228e-03, -4.35727287e-03, -6.79905057e-03,\n",
       "        3.66508474e-03, -2.38456198e-03, -7.18920894e-03, -1.02793058e-04,\n",
       "        3.64974143e-03,  5.18845592e-03,  4.78295424e-03, -1.10359952e-02,\n",
       "        1.54332458e-03,  5.89205614e-03, -5.12443822e-03, -2.84720839e-04,\n",
       "        7.95886346e-04, -6.21819681e-03, -9.74496549e-03,  1.54332458e-03,\n",
       "       -1.17463264e-03,  3.36260240e-03, -1.09791610e-03,  1.27592819e-02,\n",
       "       -7.14537092e-03, -6.51410344e-03,  3.11476229e-04,  2.04073080e-04,\n",
       "       -1.83220294e-03, -5.35239592e-03,  1.58323271e-02, -4.64002810e-03,\n",
       "        6.68756089e-04, -9.83264153e-03,  7.69379875e-03,  8.36013665e-03,\n",
       "       -1.62616424e-03,  1.24546077e-02, -4.97335235e-04, -2.79006367e-03,\n",
       "       -7.99363660e-03,  2.61078036e-03,  2.22938959e-03,  1.71194565e-04,\n",
       "       -5.00169176e-03, -3.24597907e-03,  1.76689848e-03, -6.44396261e-03,\n",
       "       -4.09862855e-03,  2.47488250e-03, -2.93911293e-03,  2.20527868e-03,\n",
       "       -3.04870798e-03,  2.73571872e-03, -1.70068888e-03, -9.64210145e-04,\n",
       "        1.80854460e-03,  7.04280415e-03,  5.68382554e-03,  4.45416909e-03,\n",
       "        8.90811189e-03,  2.49680151e-03,  8.20231978e-03,  3.51165167e-03,\n",
       "       -1.38724704e-03,  2.51433672e-03,  8.13875465e-03,  3.01409014e-03,\n",
       "       -8.19967530e-03, -9.84092557e-05,  2.59324515e-03, -5.95955249e-03,\n",
       "        5.50189776e-03,  1.15362012e-02,  2.05622941e-03,  8.67138659e-03,\n",
       "       -1.88919236e-03, -7.42812615e-03,  2.93737361e-03, -5.66583776e-03,\n",
       "       -1.03323950e-02, -1.23819777e-03, -1.26669248e-03,  1.06725922e-02,\n",
       "        1.53017318e-03,  2.60420466e-03, -1.37429929e-02,  6.34139584e-03,\n",
       "       -5.87203175e-04, -1.97248460e-03,  7.21361713e-04, -9.51919969e-03,\n",
       "       -4.28713204e-03,  4.49565991e-04,  5.79561249e-03, -4.28274824e-03,\n",
       "        4.20210048e-03,  6.06740822e-03,  4.35334165e-03, -7.86431445e-03,\n",
       "       -2.18071519e-03,  9.78048849e-03,  6.92005770e-03,  8.14313845e-03,\n",
       "        1.17795022e-02, -3.83121663e-03, -9.19699025e-03, -1.21627876e-03,\n",
       "        9.48458185e-03,  8.17805356e-04,  3.06450387e-03, -1.11983511e-03,\n",
       "        1.11809579e-03, -4.50632214e-03, -3.39502834e-03,  2.31487373e-03,\n",
       "        4.13415155e-03, -2.03604973e-03,  2.28199521e-03, -5.28021849e-04,\n",
       "       -9.69016797e-03, -2.02070642e-03, -2.62801830e-04,  1.17970374e-02,\n",
       "       -1.38286323e-03,  1.11152009e-03, -4.40549469e-03,  5.54354388e-03,\n",
       "       -1.13538208e-02,  1.58301352e-02, -4.71674463e-03, -3.78080291e-03,\n",
       "       -5.43568815e-03,  9.99733138e-04, -9.85675244e-03, -1.56302196e-02,\n",
       "       -5.74036239e-03,  1.34824539e-03, -9.74715739e-03, -1.55821531e-03,\n",
       "       -4.14685038e-03, -5.42472865e-03, -3.93204408e-03,  5.34846469e-03,\n",
       "       -7.74375989e-03,  9.54814698e-03, -1.31272240e-03,  3.24627634e-04,\n",
       "        2.98778733e-03, -3.85751945e-03,  2.32583323e-03, -7.15194663e-03,\n",
       "       -5.13758962e-03,  1.06768207e-03, -1.13406694e-02, -7.14975473e-03,\n",
       "       -6.17889789e-04, -4.56769536e-03, -1.14393050e-02, -8.15583728e-03,\n",
       "        4.62562093e-05, -1.77740541e-03, -2.02070642e-03, -1.61520474e-03,\n",
       "        1.13937276e-02,  1.03918736e-03, -4.90744002e-03,  5.10939218e-04,\n",
       "       -2.77472036e-03,  6.61319156e-03, -5.51459659e-03, -1.22504636e-03,\n",
       "        1.05279267e-02,  4.97364962e-03,  6.71182711e-03,  9.82432650e-03,\n",
       "       -2.01413072e-03, -1.16586504e-03,  8.34917714e-03,  1.07427330e-02,\n",
       "        2.77298104e-03, -9.44029126e-03,  9.10319108e-03, -7.70868948e-03,\n",
       "        4.05524311e-03, -6.98317025e-03,  1.24741795e-03, -5.50144518e-03,\n",
       "        2.19212727e-03,  4.44320959e-03,  1.07778034e-02,  3.27931016e-03,\n",
       "        9.37937060e-03, -5.08498400e-03,  1.35176797e-02, -1.07072100e-02,\n",
       "       -5.87406835e-03, -7.87527395e-03,  1.78004989e-03, -1.31161092e-02,\n",
       "        1.07931467e-02,  7.93490786e-03,  8.93660661e-03,  6.26248740e-03,\n",
       "        2.47911100e-04, -3.53750190e-03, -8.48681433e-03,  1.22549894e-03,\n",
       "       -2.92815343e-03,  3.39986472e-03,  1.13343910e-03, -7.91049967e-04,\n",
       "       -3.06405129e-03, -2.03620503e-04, -6.27518623e-03, -7.88623346e-03,\n",
       "       -4.97538895e-03, -5.63092265e-04, -3.03555658e-03,  4.97145772e-03,\n",
       "       -6.42642740e-03,  3.25739115e-03, -6.79685867e-03,  8.57055914e-03,\n",
       "        2.27980331e-03, -7.53333740e-03, -3.43667446e-03,  4.67116729e-03,\n",
       "        2.84531377e-03, -3.00486996e-03, -3.02021327e-03, -4.22575881e-03,\n",
       "       -8.17118058e-03,  1.24960985e-03,  4.35114974e-03, -9.72523838e-03,\n",
       "       -1.57794242e-03, -2.92815343e-03, -3.39064454e-03,  4.33361454e-03,\n",
       "       -5.32828501e-03, -3.25913048e-03,  3.74886054e-05,  6.80388695e-03,\n",
       "       -4.58961437e-03,  1.11416590e-02, -7.71964898e-03, -3.61437374e-04,\n",
       "        2.82997046e-03,  2.72914302e-03,  1.12247959e-03,  1.49729466e-03,\n",
       "       -1.16148123e-03,  2.24473290e-03, -1.88172437e-02, -2.29923315e-04,\n",
       "        2.32144943e-03,  8.17382506e-03, -6.53821435e-03,  8.78536544e-03,\n",
       "       -7.91034437e-03,  2.99874684e-03, -4.05275394e-04,  1.06594408e-02,\n",
       "        1.16850951e-03,  5.70120545e-04,  2.11102694e-03,  4.57691555e-03,\n",
       "        5.69916885e-03,  4.22182759e-03,  1.36864560e-02, -4.74962315e-03,\n",
       "        7.19404532e-03, -3.21983156e-04,  5.62026041e-03, -9.14000082e-03,\n",
       "        9.55472268e-03, -9.68593947e-04, -1.02732136e-02, -1.07176860e-04,\n",
       "       -6.03626902e-03,  6.66798909e-03,  2.11760264e-03,  7.43280723e-04,\n",
       "        1.15077065e-02, -1.08803702e-02, -2.63005489e-03, -6.21819681e-03,\n",
       "        3.95222377e-03,  1.86772593e-03,  1.23033665e-02,  8.80509255e-03,\n",
       "        9.05935306e-03, -7.63635674e-03, -1.14832983e-03,  8.52875772e-04,\n",
       "        1.00588599e-02, -1.63931565e-03,  6.77523693e-04, -7.67800286e-03,\n",
       "        3.68700375e-03, -5.81927083e-03, -1.38943894e-03, -2.47442992e-03,\n",
       "        5.78026919e-03,  6.93978481e-03, -6.00119861e-03,  7.72229346e-03,\n",
       "       -9.22986876e-03, -2.50511654e-03, -7.67361906e-03, -1.03981520e-02,\n",
       "       -1.69849697e-03, -4.64002810e-03,  7.04280415e-03,  5.59176570e-03,\n",
       "       -5.54309130e-03,  4.34238214e-03, -8.95149734e-03,  7.08210307e-04,\n",
       "        4.84213557e-03, -6.34971087e-03, -8.57449037e-03, -4.09862855e-03,\n",
       "       -4.02629582e-03,  3.51165167e-03,  1.14090709e-02,  4.95611442e-03,\n",
       "        1.39056461e-02, -9.15753603e-03, -4.71893653e-03,  2.11760264e-03,\n",
       "        1.33947779e-03,  8.99578793e-03,  7.49856426e-04,  4.81144895e-03,\n",
       "        6.20534267e-04, -2.86912740e-04,  1.67923797e-02, -7.99817571e-04,\n",
       "       -1.12421892e-03,  1.22967908e-02,  6.05190961e-04,  1.05891446e-03,\n",
       "        1.42934573e-03,  3.15437181e-03, -1.06722949e-03,  2.74213912e-04,\n",
       "        1.85895832e-03,  6.43783948e-03, -4.16219368e-03, -7.68677047e-03,\n",
       "        1.00630884e-03,  1.07629437e-04, -4.57207917e-03,  1.71429286e-03,\n",
       "        1.02802419e-02, -1.32848856e-02,  6.61538346e-03,  2.56036664e-03,\n",
       "        6.97923903e-03,  1.97951288e-03, -6.00996621e-03, -3.09035410e-03,\n",
       "       -1.15905461e-02,  3.15656371e-03,  5.90959135e-03,  1.12183755e-02,\n",
       "       -5.89550380e-05, -3.11023651e-04,  4.66459159e-03,  3.67604424e-03,\n",
       "       -8.34872456e-03,  5.43833263e-03,  1.29762801e-02, -3.87505465e-03,\n",
       "       -6.34094326e-03, -8.64463120e-03,  1.25510513e-02,  1.07558844e-02,\n",
       "        2.62612367e-03,  2.74213912e-04, -3.48285968e-04, -8.28515944e-03,\n",
       "        3.50945977e-03, -4.61372529e-03, -3.80272192e-03,  9.36183540e-03,\n",
       "        2.11979454e-03,  7.06472316e-03, -1.28443135e-02,  1.38398891e-02,\n",
       "        2.08472413e-03,  1.36578060e-03,  5.30462667e-03,  6.89594679e-03,\n",
       "       -5.05210548e-03,  2.56475044e-03,  1.55428409e-03,  1.12117998e-02,\n",
       "       -8.07692884e-03, -1.27917079e-02, -5.52336419e-03,  8.86208197e-03,\n",
       "       -4.50851404e-03, -9.11604521e-04,  1.24414563e-02,  1.13563100e-03,\n",
       "       -2.11057436e-03, -3.52873430e-03,  1.00411694e-03,  1.35701300e-03,\n",
       "       -1.19435975e-03, -4.53043305e-03, -7.15194663e-03, -6.99851356e-03,\n",
       "       -2.59498448e-03,  3.20697743e-03,  4.01798079e-03,  2.83873806e-03,\n",
       "       -7.75706660e-04, -4.53497215e-04, -9.00645016e-04, -5.43130435e-03,\n",
       "        3.15437181e-03,  3.12149329e-03,  2.10883504e-03, -6.87795900e-03,\n",
       "        1.62442492e-03,  3.57302489e-03, -6.59535908e-04,  1.08238334e-02,\n",
       "        1.10494439e-03, -7.55964021e-03,  1.63100062e-03,  6.28659831e-03,\n",
       "        5.87655753e-04,  7.19185342e-03,  8.60782146e-03,  3.71111466e-03,\n",
       "       -7.21064439e-05, -7.26154168e-03, -8.44955201e-03,  3.57083299e-03,\n",
       "       -1.68972937e-03, -1.74891070e-03, -5.32390120e-03, -2.72211474e-03,\n",
       "        1.45345664e-03, -5.86091695e-03,  1.08216415e-02,  4.58568315e-03,\n",
       "        5.34188899e-03, -2.28154264e-03, -1.48586705e-02,  1.69237385e-03,\n",
       "        5.85479382e-03, -3.42133115e-03, -5.72721099e-03,  4.89912499e-03,\n",
       "        6.77523693e-04, -5.70310008e-03, -4.35288907e-03, -7.53991310e-03,\n",
       "        3.33629959e-03, -4.92497523e-03, -6.38697318e-03,  2.17678397e-03,\n",
       "        3.26835066e-03,  3.95222377e-03, -3.81164483e-04,  2.70941591e-03,\n",
       "        4.53307753e-03,  2.08456882e-04,  6.39838526e-03, -9.49947258e-03,\n",
       "       -3.68655117e-03,  6.24495220e-03, -1.15052173e-03, -6.11079366e-03,\n",
       "        5.62464422e-03, -1.01000535e-02, -2.76595275e-03,  1.62880872e-03,\n",
       "       -4.94689424e-03,  7.55132518e-03,  2.99655494e-03, -2.87993161e-03,\n",
       "       -2.41305670e-03, -2.83609359e-03,  2.98997923e-03,  6.56277784e-03,\n",
       "       -5.79296802e-03, -6.45711401e-03, -4.64222000e-03,  1.88745304e-03,\n",
       "       -2.75280135e-03,  5.52585337e-04, -4.50193834e-03,  1.29563977e-03,\n",
       "        3.14122040e-03, -9.07205189e-03,  9.42540053e-03,  8.85754287e-04,\n",
       "        2.38282266e-03, -3.56599661e-03,  9.64662722e-04,  5.67286604e-03,\n",
       "       -8.32680555e-03, -4.71893653e-03, -6.22696441e-03, -8.96261214e-04,\n",
       "       -1.35807922e-02, -4.25002503e-04,  6.08055962e-03, -4.19068840e-03,\n",
       "        5.05255806e-03,  2.13513785e-03,  7.10402208e-04, -3.96053879e-03,\n",
       "        1.00676275e-02,  2.68749690e-03, -3.98464970e-03,  2.27541951e-03,\n",
       "       -5.28444699e-03,  8.91249569e-03,  2.53625573e-03, -2.73964994e-03,\n",
       "       -1.07818900e-03,  3.50069216e-03,  5.51504917e-03,  8.46096409e-03,\n",
       "        7.19842912e-03,  5.10939218e-04, -5.41376915e-03,  5.25202105e-03,\n",
       "       -1.62835614e-03,  1.07629437e-04, -2.55114646e-03,  1.01684550e-02,\n",
       "        1.58277880e-03, -5.27348748e-03, -4.14042998e-04,  2.01677520e-03,\n",
       "       -1.23819777e-03, -8.39694639e-03,  2.17459207e-03, -2.00317121e-03,\n",
       "       -5.54089940e-03, -4.66648621e-04, -6.34971087e-03, -8.98453115e-04,\n",
       "       -5.86310885e-03, -1.02162242e-02,  8.87946188e-04,  1.88745304e-03,\n",
       "        6.32824443e-03, -6.35409467e-03, -7.46100467e-03,  2.14828925e-03,\n",
       "       -2.00317121e-03, -5.65284166e-04, -3.54407760e-03, -6.81658578e-03,\n",
       "        8.57104271e-05,  3.03600915e-03, -7.91049967e-04, -4.40345809e-04,\n",
       "        1.09398488e-03,  5.85041002e-03,  4.73254052e-03, -2.65635771e-03,\n",
       "        9.19086712e-03,  5.28709147e-03,  6.33920394e-03, -6.34941431e-06,\n",
       "        9.80679130e-03,  1.58497070e-03, -5.99243101e-03,  1.32984896e-02,\n",
       "        5.70136075e-03, -2.49415703e-03, -5.66145396e-03,  3.14122040e-03,\n",
       "        8.84893057e-03,  3.32095628e-03,  4.36430115e-03,  1.75593898e-03,\n",
       "        4.36868495e-03,  2.48145820e-03, -5.83899794e-03, -5.97489580e-03,\n",
       "       -2.50292464e-03,  5.36599990e-03,  1.86553403e-03, -7.20893605e-03,\n",
       "       -4.57646297e-03,  2.36309555e-03, -1.15445162e-02, -1.00601157e-04,\n",
       "       -7.86821468e-05,  3.90400194e-03, -1.47930688e-03,  4.29416032e-03,\n",
       "        1.55209219e-03, -6.89111041e-03,  4.09469733e-03,  6.61976726e-03,\n",
       "        5.01748764e-03, -1.15709743e-03,  2.82339476e-03,  9.68185294e-03,\n",
       "        8.36013665e-03, -9.75154120e-03, -4.31578205e-04,  3.12806899e-03,\n",
       "        5.24544535e-03,  3.31218868e-03,  1.33489033e-02,  5.37038370e-03,\n",
       "        1.80635270e-03, -1.46986617e-02,  1.20357993e-03, -3.76780681e-04,\n",
       "       -4.13369897e-03,  5.38353511e-03,  1.60235061e-04,  1.29783167e-03,\n",
       "        4.10111773e-04,  2.40912547e-03, -1.85412194e-03,  6.79950315e-03,\n",
       "       -3.48489628e-03, -3.35134562e-04,  9.88569973e-03, -3.59449133e-03,\n",
       "        4.12538394e-03,  2.54940713e-03,  2.27103571e-03, -6.07791514e-03,\n",
       "        4.53307753e-03, -9.20372125e-04,  7.02746085e-03,  2.29295472e-03,\n",
       "       -7.42828145e-04, -9.11150611e-03, -1.03148597e-02, -1.19850883e-02,\n",
       "        4.03536070e-04,  6.75785703e-03, -1.87604095e-03,  6.13754905e-03,\n",
       "        1.19789652e-02,  1.21455496e-02, -1.75329450e-03,  7.91347241e-05,\n",
       "       -1.98344410e-03,  3.29011436e-04,  1.19700423e-03, -6.59520378e-03,\n",
       "       -7.75033560e-03, -1.42670125e-03,  3.72864986e-03, -8.69958403e-04,\n",
       "       -6.89111041e-03, -6.47245732e-03,  2.01239139e-03, -2.21359371e-03,\n",
       "       -6.63684989e-03,  1.10145287e-02, -1.18009686e-02, -3.55722901e-03,\n",
       "        5.09639608e-03,  2.41789308e-03, -1.24696537e-03,  1.52514733e-02,\n",
       "       -1.11521659e-02,  8.39739896e-03, -7.53787650e-04,  7.35843790e-03,\n",
       "        5.15338551e-03,  3.11710949e-03,  4.61009061e-06, -4.18192079e-03,\n",
       "       -7.02700827e-03, -3.64709695e-03,  2.17240017e-03,  7.02746085e-03,\n",
       "        4.40798387e-04,  1.03480355e-03,  3.09299858e-03, -1.59328573e-03,\n",
       "        5.15776931e-03,  1.10713629e-03,  9.17771571e-03, -1.85631385e-03,\n",
       "        1.19373191e-02, -1.20093545e-03, -2.41524860e-03, -1.07599710e-03,\n",
       "        4.72377291e-03,  6.17919517e-03, -8.63147979e-03, -3.54407760e-03,\n",
       "       -1.76644591e-03, -1.00671749e-02, -7.54868070e-03,  5.15338551e-03,\n",
       "       -5.97489580e-03, -9.81291442e-03, -6.54259815e-03,  3.75495268e-03,\n",
       "       -7.20909136e-04,  2.96367642e-03, -2.31880495e-03, -7.03577587e-03,\n",
       "       -8.38598688e-03,  6.58250495e-03,  2.82981516e-04,  2.31925753e-03,\n",
       "        9.09223158e-03, -8.61832839e-03, -3.84436804e-03,  9.12057099e-04,\n",
       "       -2.81855838e-03,  2.20308678e-03, -1.05407809e-03, -9.55646201e-03,\n",
       "        5.74300687e-03,  4.48485570e-03,  2.16363256e-03, -1.91987897e-03,\n",
       "        2.47707440e-03, -1.45452286e-02,  9.19086712e-03,  4.27881701e-03,\n",
       "        1.50387036e-03, -6.11469389e-05, -3.02898087e-03, -1.16805694e-03,\n",
       "        6.92663340e-03,  3.76810408e-03,  5.78684489e-03, -1.02339147e-03,\n",
       "       -6.61712279e-03, -2.35387537e-03, -1.06304935e-02,  1.42699853e-04,\n",
       "       -7.41278284e-03, -1.61520474e-03,  2.56913424e-03,  3.53137878e-03,\n",
       "        1.44030524e-03,  3.92576565e-04,  3.04258486e-03, -3.24378717e-03,\n",
       "       -1.00627911e-02,  4.11442444e-03, -1.33025761e-03, -6.20066160e-03,\n",
       "        2.27761141e-03,  1.83484741e-03, -6.10421796e-03,  8.27684441e-03,\n",
       "        6.29974972e-03, -2.94788054e-03, -1.11455902e-02,  6.81484645e-03,\n",
       "       -3.32942661e-04, -1.27391022e-02, -1.00601157e-04,  8.35136904e-03,\n",
       "       -5.39623394e-03, -3.64928885e-03, -3.98699691e-04,  1.44468904e-03,\n",
       "        9.40551811e-04,  7.20062103e-03, -2.15222048e-03,  1.93567486e-03,\n",
       "       -2.97418335e-03, -5.60446453e-03, -6.59535908e-04, -6.08010704e-03,\n",
       "       -7.71526518e-03,  1.85634357e-02,  1.48633516e-03,  1.29499773e-02,\n",
       "        9.09661538e-03,  2.23815719e-03, -1.69192127e-03,  1.23099422e-02,\n",
       "        8.61643376e-04, -1.79494062e-03, -1.94852899e-04,  1.16501800e-02,\n",
       "        6.77539223e-03, -7.13221952e-03,  8.16067366e-03, -6.15024788e-03,\n",
       "        3.84043681e-03, -8.52423195e-04,  1.48633516e-03,  7.79462619e-03,\n",
       "        5.28319123e-05,  6.46195039e-03,  5.64217942e-03,  4.60321836e-03,\n",
       "       -1.92446644e-02,  1.32194258e-03,  3.07092427e-04,  1.29344787e-03,\n",
       "       -9.69016797e-03,  2.62173987e-03,  3.22232074e-03, -4.30028344e-03,\n",
       "        4.40375537e-03,  9.08784777e-03, -3.11446501e-03,  1.64196013e-03,\n",
       "        2.74887012e-03, -3.05309178e-03, -1.12990233e-02, -2.15660428e-03,\n",
       "       -1.95933319e-03,  7.85819132e-03, -4.31781865e-03, -1.15928933e-03,\n",
       "        6.49028980e-04,  4.51115852e-03,  1.47083655e-04,  1.20600655e-02,\n",
       "       -1.29078786e-02,  1.01069264e-03,  1.58058690e-03, -6.34094326e-03])"
      ]
     },
     "execution_count": 49,
     "metadata": {},
     "output_type": "execute_result"
    }
   ],
   "source": [
    "sim_test_stat"
   ]
  },
  {
   "cell_type": "code",
   "execution_count": 46,
   "metadata": {},
   "outputs": [],
   "source": [
    "p_value = np.count_nonzero(sim_test_stat <= observed_test_stat/reps)"
   ]
  },
  {
   "cell_type": "code",
   "execution_count": 51,
   "metadata": {
    "scrolled": true
   },
   "outputs": [
    {
     "data": {
      "text/plain": [
       "445"
      ]
     },
     "execution_count": 51,
     "metadata": {},
     "output_type": "execute_result"
    }
   ],
   "source": [
    "p_value"
   ]
  },
  {
   "cell_type": "code",
   "execution_count": null,
   "metadata": {},
   "outputs": [],
   "source": [
    "### BOOTSTRAP PRACTICE TIME ###"
   ]
  },
  {
   "cell_type": "code",
   "execution_count": 60,
   "metadata": {},
   "outputs": [
    {
     "data": {
      "text/plain": [
       "array([0.98, 1.59, 0.99, ..., 1.24, 1.08, 1.17])"
      ]
     },
     "execution_count": 60,
     "metadata": {},
     "output_type": "execute_result"
    }
   ],
   "source": [
    "np.random.choice(organic, size = len(organic))\n",
    "\n",
    "np.random.choice(not_organic, size = len(not_organic))"
   ]
  },
  {
   "cell_type": "code",
   "execution_count": 61,
   "metadata": {},
   "outputs": [],
   "source": [
    "def resample (og_sample):\n",
    "    return np.random.choice(og_sample, size = len(og_sample))"
   ]
  },
  {
   "cell_type": "code",
   "execution_count": 62,
   "metadata": {},
   "outputs": [],
   "source": [
    "def bootstrap (og_sample, rep):\n",
    "    \n",
    "    means = np.array([])\n",
    "    \n",
    "    for i in range (reps):\n",
    "        new_sample = resample(og_sample)\n",
    "        new_means = np.mean(new_sample)\n",
    "        means = np.append(means, new_means)\n",
    "    return means"
   ]
  },
  {
   "cell_type": "code",
   "execution_count": 63,
   "metadata": {},
   "outputs": [],
   "source": [
    "organic_means = bootstrap(organic, 500)\n",
    "not_organic_means = bootstrap(not_organic, 500)"
   ]
  },
  {
   "cell_type": "code",
   "execution_count": 66,
   "metadata": {},
   "outputs": [],
   "source": [
    "estimate = organic_means - not_organic_means"
   ]
  },
  {
   "cell_type": "code",
   "execution_count": 68,
   "metadata": {},
   "outputs": [
    {
     "data": {
      "image/png": "[encoded data removed]",
      "text/plain": [
       "<Figure size 432x288 with 1 Axes>"
      ]
     },
     "metadata": {
      "needs_background": "light"
     },
     "output_type": "display_data"
    }
   ],
   "source": [
    "sn.distplot(estimate, kde = False)\n",
    "plt.show()"
   ]
  },
  {
   "cell_type": "code",
   "execution_count": 69,
   "metadata": {},
   "outputs": [
    {
     "data": {
      "text/plain": [
       "(0.4862879992502205, 0.5047535137617725)"
      ]
     },
     "execution_count": 69,
     "metadata": {},
     "output_type": "execute_result"
    }
   ],
   "source": [
    "(np.percentile(estimate, 2.5), np.percentile(estimate, 97.5))"
   ]
  }
 ],
 "metadata": {
  "kernelspec": {
   "display_name": "Python 3",
   "language": "python",
   "name": "python3"
  },
  "language_info": {
   "codemirror_mode": {
    "name": "ipython",
    "version": 3
   },
   "file_extension": ".py",
   "mimetype": "text/x-python",
   "name": "python",
   "nbconvert_exporter": "python",
   "pygments_lexer": "ipython3",
   "version": "3.8.3"
  }
 },
 "nbformat": 4,
 "nbformat_minor": 4
}
